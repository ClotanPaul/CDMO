{
 "cells": [
  {
   "cell_type": "code",
   "execution_count": 1,
   "metadata": {},
   "outputs": [],
   "source": [
    "from SMT_model import *\n",
    "from time import time as time_clock"
   ]
  },
  {
   "cell_type": "code",
   "execution_count": 2,
   "metadata": {},
   "outputs": [],
   "source": [
    "#Demo with instance 01\n",
    "Path = ('../Instances/inst04.dat')\n",
    "\n",
    "timeout = 300\n"
   ]
  },
  {
   "cell_type": "code",
   "execution_count": 3,
   "metadata": {},
   "outputs": [
    {
     "name": "stdout",
     "output_type": "stream",
     "text": [
      "{'m': 8, 'n': 10, 'l': [200, 180, 160, 185, 180, 200, 160, 200], 's': [10, 25, 18, 16, 14, 16, 24, 19, 23, 19], 'D': [[0, 56, 86, 77, 81, 128, 107, 154, 70, 93, 53], [56, 0, 79, 31, 62, 87, 61, 107, 37, 37, 24], [86, 79, 0, 109, 17, 43, 110, 68, 43, 69, 55], [87, 31, 109, 0, 92, 116, 30, 77, 66, 40, 55], [81, 62, 17, 92, 0, 47, 93, 82, 26, 52, 38], [128, 87, 43, 116, 47, 0, 117, 52, 58, 76, 75], [116, 61, 110, 30, 93, 117, 0, 65, 67, 41, 63], [163, 107, 78, 77, 82, 52, 65, 0, 93, 70, 110], [70, 41, 43, 66, 26, 73, 67, 93, 0, 26, 17], [93, 37, 69, 40, 52, 76, 41, 70, 26, 0, 40], [53, 24, 55, 54, 38, 75, 63, 110, 17, 40, 0]]}\n"
     ]
    }
   ],
   "source": [
    "#Read the file from the path\n",
    "with open(Path, 'r') as file:\n",
    "    data = file.read()\n",
    "\n",
    "instance = data_parsing(data)\n",
    "print(instance)"
   ]
  },
  {
   "cell_type": "code",
   "execution_count": 4,
   "metadata": {},
   "outputs": [],
   "source": [
    "def run_smt(_, instance, timeout, sb=False):\n",
    "    generation_start_time = time_clock()\n",
    "\n",
    "    o, x, max_distance = stm_model(instance, timeout, sb)\n",
    "    generation_duration = time_clock() - generation_start_time\n",
    "    o.set(\"timeout\", int(timeout - generation_duration) * 1000)\n",
    "\n",
    "    obj = o.minimize(max_distance)\n",
    "    res = o.check()\n",
    "    if res in [sat, unknown]:\n",
    "        result_formatted = format_solution(instance, o.model(), x)\n",
    "        return result_formatted, res==sat\n",
    "    elif res == unsat:\n",
    "        return \"unsat\"\n",
    "    else:\n",
    "        return \"unknown\""
   ]
  },
  {
   "cell_type": "code",
   "execution_count": 5,
   "metadata": {},
   "outputs": [
    {
     "name": "stdout",
     "output_type": "stream",
     "text": [
      "([[10, 7, 5], [], [1], [6], [3, 9, 4, 2], [], [8], []], False)\n"
     ]
    }
   ],
   "source": [
    "print(run_smt(_, instance, timeout, False))"
   ]
  },
  {
   "cell_type": "code",
   "execution_count": null,
   "metadata": {},
   "outputs": [],
   "source": []
  }
 ],
 "metadata": {
  "kernelspec": {
   "display_name": "base",
   "language": "python",
   "name": "python3"
  },
  "language_info": {
   "codemirror_mode": {
    "name": "ipython",
    "version": 3
   },
   "file_extension": ".py",
   "mimetype": "text/x-python",
   "name": "python",
   "nbconvert_exporter": "python",
   "pygments_lexer": "ipython3",
   "version": "3.8.5"
  }
 },
 "nbformat": 4,
 "nbformat_minor": 2
}
