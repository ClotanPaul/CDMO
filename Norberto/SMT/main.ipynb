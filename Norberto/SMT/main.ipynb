{
 "cells": [
  {
   "cell_type": "code",
   "execution_count": 1,
   "metadata": {},
   "outputs": [],
   "source": [
    "from SMT_model import *\n",
    "from time import time as time_clock"
   ]
  },
  {
   "cell_type": "code",
   "execution_count": 2,
   "metadata": {},
   "outputs": [],
   "source": [
    "#Demo with instance 01\n",
    "Path = ('../Instances/inst01.dat')\n",
    "\n",
    "timeout = 300\n"
   ]
  },
  {
   "cell_type": "code",
   "execution_count": 3,
   "metadata": {},
   "outputs": [
    {
     "name": "stdout",
     "output_type": "stream",
     "text": [
      "{'m': 2, 'n': 6, 'l': [15, 10], 's': [3, 2, 6, 5, 4, 4], 'D': [[0, 3, 4, 5, 6, 6, 2], [3, 0, 1, 4, 5, 7, 3], [4, 1, 0, 5, 6, 6, 4], [4, 4, 5, 0, 3, 3, 2], [6, 7, 8, 3, 0, 2, 4], [6, 7, 8, 3, 2, 0, 4], [2, 3, 4, 3, 4, 4, 0]]}\n"
     ]
    }
   ],
   "source": [
    "#Read the file from the path\n",
    "with open(Path, 'r') as file:\n",
    "    data = file.read()\n",
    "\n",
    "instance = data_parsing(data)\n",
    "print(instance)"
   ]
  },
  {
   "cell_type": "code",
   "execution_count": 4,
   "metadata": {},
   "outputs": [],
   "source": [
    "def run_smt(_, instance, timeout, sb=False):\n",
    "    generation_start_time = time_clock()\n",
    "\n",
    "    o, x, max_distance = stm_model(instance, timeout, sb)\n",
    "    generation_duration = time_clock() - generation_start_time\n",
    "    o.set(\"timeout\", int(timeout - generation_duration) * 1000)\n",
    "\n",
    "    obj = o.minimize(max_distance)\n",
    "    res = o.check()\n",
    "    if res in [sat, unknown]:\n",
    "        result_formatted = format_solution(instance, o.model(), x)\n",
    "        return result_formatted, res==sat\n",
    "    elif res == unsat:\n",
    "        return \"unsat\"\n",
    "    else:\n",
    "        return \"unknown\""
   ]
  },
  {
   "cell_type": "code",
   "execution_count": 5,
   "metadata": {},
   "outputs": [
    {
     "name": "stdout",
     "output_type": "stream",
     "text": [
      "[distances = Store(Store(Store(Store(Store(Store(K(Int,\n",
      "                                        Store(Store(Store(Store(K(Int,\n",
      "                                        4),\n",
      "                                        6,\n",
      "                                        0),\n",
      "                                        1,\n",
      "                                        3),\n",
      "                                        3,\n",
      "                                        3),\n",
      "                                        0,\n",
      "                                        2)),\n",
      "                                        1,\n",
      "                                        Store(Store(Store(Store(Store(K(Int,\n",
      "                                        3),\n",
      "                                        1,\n",
      "                                        0),\n",
      "                                        3,\n",
      "                                        4),\n",
      "                                        4,\n",
      "                                        5),\n",
      "                                        2,\n",
      "                                        1),\n",
      "                                        5,\n",
      "                                        7)),\n",
      "                                        3,\n",
      "                                        Store(Store(Store(Store(Store(K(Int,\n",
      "                                        4),\n",
      "                                        6,\n",
      "                                        2),\n",
      "                                        3,\n",
      "                                        0),\n",
      "                                        4,\n",
      "                                        3),\n",
      "                                        2,\n",
      "                                        5),\n",
      "                                        5,\n",
      "                                        3)),\n",
      "                                     0,\n",
      "                                     Store(Store(Store(Store(Store(K(Int,\n",
      "                                        6),\n",
      "                                        6,\n",
      "                                        2),\n",
      "                                        1,\n",
      "                                        3),\n",
      "                                        3,\n",
      "                                        5),\n",
      "                                        0,\n",
      "                                        0),\n",
      "                                        2,\n",
      "                                        4)),\n",
      "                               4,\n",
      "                               Store(Store(Store(Store(Store(Store(K(Int,\n",
      "                                        4),\n",
      "                                        1,\n",
      "                                        7),\n",
      "                                        3,\n",
      "                                        3),\n",
      "                                        0,\n",
      "                                        6),\n",
      "                                        4,\n",
      "                                        0),\n",
      "                                        2,\n",
      "                                        8),\n",
      "                                     5,\n",
      "                                     2)),\n",
      "                         2,\n",
      "                         Store(Store(Store(Store(Store(K(Int,\n",
      "                                        4),\n",
      "                                        1,\n",
      "                                        1),\n",
      "                                        3,\n",
      "                                        5),\n",
      "                                        4,\n",
      "                                        6),\n",
      "                                     2,\n",
      "                                     0),\n",
      "                               5,\n",
      "                               6)),\n",
      "                   5,\n",
      "                   Store(Store(Store(Store(Store(Store(K(Int,\n",
      "                                        4),\n",
      "                                        1,\n",
      "                                        7),\n",
      "                                        3,\n",
      "                                        3),\n",
      "                                        0,\n",
      "                                        6),\n",
      "                                     4,\n",
      "                                     2),\n",
      "                               2,\n",
      "                               8),\n",
      "                         5,\n",
      "                         0)),\n",
      " x_0_1 = 0,\n",
      " x_1_1 = 1,\n",
      " x_1_4 = 6,\n",
      " x_0_2 = 2,\n",
      " x_0_3 = 3,\n",
      " x_1_5 = 6,\n",
      " x_0_4 = 6,\n",
      " x_1_2 = 4,\n",
      " s = Store(Store(Store(Store(Store(K(Int, 4), 6, 0), 1, 2),\n",
      "                       3,\n",
      "                       5),\n",
      "                 0,\n",
      "                 3),\n",
      "           2,\n",
      "           6),\n",
      " x_0_5 = 6,\n",
      " x_1_3 = 5,\n",
      " max_distance = 14,\n",
      " x_1_0 = 6,\n",
      " y_1 = 14,\n",
      " load_1 = 10,\n",
      " y_0 = 13,\n",
      " x_0_0 = 6,\n",
      " load_0 = 14,\n",
      " x_0_6 = 6,\n",
      " x_1_6 = 6]\n",
      "([[1, 3, 4], [2, 5, 6]], True)\n"
     ]
    }
   ],
   "source": [
    "print(run_smt(_, instance, timeout, True))"
   ]
  },
  {
   "cell_type": "markdown",
   "metadata": {},
   "source": [
    "x_0_5 = 6,\n",
    " x_1_3 = 5,\n",
    " max_distance = 14,\n",
    " x_1_0 = 6,\n",
    " y_1 = 14,\n",
    " load_1 = 10,\n",
    " y_0 = 13,\n",
    " x_0_0 = 6,\n",
    " load_0 = 14,\n",
    " x_0_6 = 6,\n",
    " x_1_6 = 6]\n",
    "([[1, 3, 4], [2, 5, 6]], True)"
   ]
  },
  {
   "cell_type": "markdown",
   "metadata": {},
   "source": []
  }
 ],
 "metadata": {
  "kernelspec": {
   "display_name": "base",
   "language": "python",
   "name": "python3"
  },
  "language_info": {
   "codemirror_mode": {
    "name": "ipython",
    "version": 3
   },
   "file_extension": ".py",
   "mimetype": "text/x-python",
   "name": "python",
   "nbconvert_exporter": "python",
   "pygments_lexer": "ipython3",
   "version": "3.8.5"
  }
 },
 "nbformat": 4,
 "nbformat_minor": 2
}
